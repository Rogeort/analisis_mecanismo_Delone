{
  "cells": [
    {
      "cell_type": "markdown",
      "metadata": {
        "id": "view-in-github",
        "colab_type": "text"
      },
      "source": [
        "<a href=\"https://colab.research.google.com/github/Rogeort/analisis_mecanismo_Delone/blob/main/main.ipynb\" target=\"_parent\"><img src=\"https://colab.research.google.com/assets/colab-badge.svg\" alt=\"Open In Colab\"/></a>"
      ]
    },
    {
      "cell_type": "markdown",
      "id": "07b0ecd3-7440-4979-bb45-f508ecbe1200",
      "metadata": {
        "id": "07b0ecd3-7440-4979-bb45-f508ecbe1200"
      },
      "source": [
        "# Analisis de posicion de un punto especifico"
      ]
    },
    {
      "cell_type": "markdown",
      "id": "0609683b-681d-4234-98be-d55e47e03499",
      "metadata": {
        "id": "0609683b-681d-4234-98be-d55e47e03499"
      },
      "source": [
        "Definicion de longitudes de los eslabones\n"
      ]
    },
    {
      "cell_type": "markdown",
      "id": "1f3794d1-c618-4df1-ac56-115dfd581710",
      "metadata": {
        "id": "1f3794d1-c618-4df1-ac56-115dfd581710"
      },
      "source": [
        "$\n",
        "\\begin{gather*}\n",
        "\\\\ AB = BC = CD = DP = DO_40 \\\\\n",
        "O_2O_4 = O_4O_P \\\\\n",
        "AO_2 = 0.5 AB\n",
        "\\end{gather*}\n",
        "$\n",
        "\n",
        "Resumen:\n",
        "\n",
        "$l2 = l3 = l4 = l5 = l6 = l7 \\quad\n",
        "l1 = 0.5 \\cdot l2$\n",
        "\n",
        "Ecuaciones:\n",
        "\n",
        "$\\begin{align*}\n",
        "    &r = \\sqrt{(\n",
        "        s - l_1\\cos{\\theta_1}\n",
        "    )^2\n",
        "    +\n",
        "    (\n",
        "        l_1 \\sin\\theta_1\n",
        "    )^2\n",
        "    } \\\\\n",
        "    &\\phi = \\atan{\n",
        "        \\left(\n",
        "            \\frac{\n",
        "            -l_1\\sin\\theta_1\n",
        "            }\n",
        "            {\n",
        "            s-l_1\\cos\\theta_1\n",
        "            }            \n",
        "        \\right)\n",
        "    }  \\\\\n",
        "    & \\theta_3 = \\phi + \\acos{\n",
        "        \\left(\n",
        "            \\frac{\n",
        "            r^2+l_3^2-l_2^2\n",
        "            }\n",
        "            {\n",
        "            2l_3r\n",
        "            }\n",
        "        \\right)\n",
        "    } \\\\\n",
        "    &\\theta_2 = \\atan{\n",
        "        \\left(\n",
        "            \\frac{\n",
        "                r\\sin\\phi-l_3\\sin\\theta_3\n",
        "            }{\n",
        "                r\\cos\\phi - l_3\\cos\\theta_3\n",
        "            }\n",
        "        \\right)\n",
        "    } \\\\\n",
        "    & m = \\sqrt{\n",
        "        (\n",
        "            l_3\\cos\\theta_3 + l_4\\cos\\theta_2\n",
        "        )^2\n",
        "        +\n",
        "        (\n",
        "            l_3\\sin\\theta_3+l_4\\sin\\theta_2\n",
        "        )^2\n",
        "    }\\\\\n",
        "    &\\psi = \\atan{\n",
        "    \\left(\n",
        "        \\frac{\n",
        "            l_3\\sin\\theta_3+l_4\\sin\\theta_2\n",
        "        }{\n",
        "            l_3\\cos\\theta_3 + l_4\\cos\\theta_3\n",
        "        }\n",
        "    \\right)\n",
        "    } \\\\\n",
        "    &\\theta_6 = \\psi + \\acos{\n",
        "        \\left(\n",
        "            \\frac{\n",
        "            l_6^2+m^2-l_5^2\n",
        "            }{\n",
        "            2ml_6\n",
        "            }\n",
        "        \\right)\n",
        "    } \\\\\n",
        "    &\\theta_5 = \\atan{\n",
        "    \\left(\n",
        "        \\frac{\n",
        "        m\\sin\\psi-l_6\\sin\\theta_6\n",
        "        }{\n",
        "        m\\cos\\psi-l_6\\cos\\theta_6\n",
        "        }\n",
        "    \\right)\n",
        "    }\n",
        "\\end{align*}$\n",
        "\n",
        "Para el punto $P$\n",
        "\n",
        "$\\begin{align*}\n",
        "    &P_x = l_6\\cos\\theta_6+l_7\\cos\\theta_5+s \\\\\n",
        "    &P_y = l_6\\sin\\theta_6+l_7\\sin\\theta_5\n",
        "\\end{align*}$"
      ]
    },
    {
      "cell_type": "markdown",
      "id": "400032ef-284c-4d4d-9dce-e259f864aa8e",
      "metadata": {
        "id": "400032ef-284c-4d4d-9dce-e259f864aa8e"
      },
      "source": [
        "# Ecuaciones"
      ]
    },
    {
      "cell_type": "code",
      "execution_count": null,
      "id": "55628ad4-7de3-497d-ab9f-768765ace0d1",
      "metadata": {
        "id": "55628ad4-7de3-497d-ab9f-768765ace0d1"
      },
      "outputs": [],
      "source": [
        "pkg load symbolic\n",
        "\n",
        "function [pos, vel, acc] = solve(theta1, theta1_dot, theta1_ddot)\n",
        "    l = 20;\n",
        "    l1 = 0.5 * l;\n",
        "    s = 30;\n",
        "\n",
        "    r = sqrt((s - l1 * cos(theta1))^2 + (-l1 * sin(theta1))^2);\n",
        "    phi = atan2(-l1 * sin(theta1), s - l1 * cos(theta1));\n",
        "\n",
        "    t3 = phi - acos(r / (2 * l));\n",
        "    t2 = atan2(r * sin(phi) - l * sin(t3), r * cos(phi) - l * cos(t3));\n",
        "\n",
        "    m = sqrt((l * (cos(t3) + cos(t2)))^2 + (l * (sin(t3) + sin(t2)))^2);\n",
        "    psi = atan2(l * (sin(t3) + sin(t2)), l * (cos(t3) + cos(t2)));\n",
        "\n",
        "    t6 = psi - acos(m / (2 * l));\n",
        "    t5 = atan2(m * sin(psi) - l * sin(t6), m * cos(psi) - l * cos(t6));\n",
        "\n",
        "    Px = l * (cos(t6) + cos(t5)) + 3 * l / 2;\n",
        "    Py = l * (sin(t6) + sin(t5));\n",
        "\n",
        "    pos = [t2, t3, t5, t6, Px, Py];\n",
        "\n",
        "\n",
        "    t3_dot = (-l1 * theta1_dot * sin(theta1 - t2)) / (l * sin(t3 - t2));\n",
        "    t2_dot = (-l1 * theta1_dot * cos(theta1 - t2) - t3_dot * l * cos(t3 - t2)) / l;\n",
        "    t5_dot = (l * t3_dot * sin(t3 - t6) + l * t2_dot * sin(t2 - t6)) / (l * sin(t5 - t6));\n",
        "    t6_dot = (l * t3_dot * cos(t3 - t6) + l * t2_dot * cos(t2 - t6) - l * t5_dot * cos(t5 - t6)) / l;\n",
        "\n",
        "    vel = [t2_dot, t3_dot, t5_dot, t6_dot];\n",
        "\n",
        "\n",
        "    t3_dd = (-l1 * theta1_dot^2 * sin(theta1 - t2 + pi/2) ...\n",
        "             - l * t2_dot^2 * sin(pi/2) ...\n",
        "             - l * t3_dot^2 * sin(t3 - t2 + pi/2)) / (l * sin(t3 - t2));\n",
        "\n",
        "    t2_dd = (-l1 * theta1_dot^2 * cos(theta1 - t2 + pi/2) ...\n",
        "             - l * t2_dot^2 * cos(pi/2) ...\n",
        "             - l * t3_dot^2 * cos(t3 - t2 + pi/2) ...\n",
        "             - t3_dd * l * cos(t3 - t2)) / l;\n",
        "\n",
        "\n",
        "    acc = [t2_dd, t3_dd];\n",
        "endfunction\n",
        "\n",
        "\n"
      ]
    },
    {
      "cell_type": "markdown",
      "id": "cdfdac2e-83ba-4a63-afcc-18bbf101050b",
      "metadata": {
        "id": "cdfdac2e-83ba-4a63-afcc-18bbf101050b"
      },
      "source": [
        "# Calculo para parametros dados"
      ]
    },
    {
      "cell_type": "code",
      "execution_count": null,
      "id": "556c67bd-9292-46a1-9403-3a67036b7c49",
      "metadata": {
        "id": "556c67bd-9292-46a1-9403-3a67036b7c49",
        "outputId": "fe50e983-3ca0-409d-c5a0-aa927d60e330"
      },
      "outputs": [
        {
          "name": "stdout",
          "output_type": "stream",
          "text": [
            "pos =\n",
            "\n",
            "    0.9818   -1.1058    0.9818   -1.1058   50.0780   -1.2467\n",
            "\n",
            "vel =\n",
            "\n",
            "  -0.067776  -0.054332  -0.067776  -0.054332\n",
            "\n",
            "acc =\n",
            "\n",
            "  -3.7809e-03   9.4906e-03\n",
            "\n",
            "Posiciones: \n",
            "    0.9818   -1.1058    0.9818   -1.1058   50.0780   -1.2467\n",
            "Velocidades: \n",
            "  -0.067776  -0.054332  -0.067776  -0.054332\n",
            "Aceleraciones: \n",
            "  -3.7809e-03   9.4906e-03\n"
          ]
        }
      ],
      "source": [
        "theta1 = 0.125;\n",
        "theta1_dot = 0.125;\n",
        "theta1_ddot = 0;\n",
        "\n",
        "[pos, vel, acc] = mecanismo_2lazos(theta1, theta1_dot, theta1_ddot)\n",
        "\n",
        "disp(\"Posiciones: \"), disp(pos)\n",
        "disp(\"Velocidades: \"), disp(vel)\n",
        "disp(\"Aceleraciones: \"), disp(acc)"
      ]
    },
    {
      "cell_type": "markdown",
      "id": "dfcb6507-2ea5-401a-a0f3-d7534bf4871e",
      "metadata": {
        "id": "dfcb6507-2ea5-401a-a0f3-d7534bf4871e"
      },
      "source": [
        "# Graficas posicion, velocidad y aceleracion"
      ]
    },
    {
      "cell_type": "code",
      "execution_count": null,
      "id": "3fac9b41-f972-4a7e-bc70-dfca0c11f493",
      "metadata": {
        "id": "3fac9b41-f972-4a7e-bc70-dfca0c11f493",
        "outputId": "aa2d94c2-f54a-4475-a86a-e48349dcede7"
      },
      "outputs": [
        {
          "data": {
            "image/png": "[encoded data removed]",
            "text/plain": [
              "<IPython.core.display.Image object>"
            ]
          },
          "metadata": {},
          "output_type": "display_data"
        }
      ],
      "source": [
        "theta1_vals = linspace(0, 2*pi, 500);\n",
        "theta1_dot = 0.125;\n",
        "theta1_ddot = 0;\n",
        "\n",
        "n = length(theta1_vals);\n",
        "pos_hist = zeros(n, 6);\n",
        "vel_hist = zeros(n, 4);\n",
        "acc_hist = zeros(n, 2);\n",
        "\n",
        "\n",
        "for i = 1:n\n",
        "    [pos_hist(i,:), vel_hist(i,:), acc_hist(i,:)] = solve(theta1_vals(i), theta1_dot, theta1_ddot);\n",
        "end\n",
        "\n",
        "figure;\n",
        "\n",
        "subplot(3,1,1);\n",
        "plot(theta1_vals, pos_hist(:,1:4));\n",
        "legend('t2','t3','t5','t6');\n",
        "xlabel('\\theta_1 [rad]'); ylabel('Ángulos [rad]');\n",
        "title('Posiciones de los eslabones');\n",
        "\n",
        "subplot(3,1,2);\n",
        "plot(theta1_vals, vel_hist);\n",
        "legend('t2\\_dot','t3\\_dot','t5\\_dot','t6\\_dot');\n",
        "xlabel('\\theta_1 [rad]'); ylabel('Velocidades [rad/s]');\n",
        "title('Velocidades angulares');\n",
        "\n",
        "subplot(3,1,3);\n",
        "plot(theta1_vals, acc_hist);\n",
        "legend('t2\\_ddot','t3\\_ddot');\n",
        "xlabel('\\theta_1 [rad]'); ylabel('Aceleraciones [rad/s^2]');\n",
        "title('Aceleraciones angulares');"
      ]
    },
    {
      "cell_type": "code",
      "execution_count": null,
      "id": "eb45e343-01ce-403c-a458-c8754c6f8f00",
      "metadata": {
        "id": "eb45e343-01ce-403c-a458-c8754c6f8f00",
        "outputId": "44193c88-b40b-4264-eb2c-9bbe52a2a7bd"
      },
      "outputs": [
        {
          "data": {
            "image/png": "[encoded data removed]",
            "text/plain": [
              "<IPython.core.display.Image object>"
            ]
          },
          "metadata": {},
          "output_type": "display_data"
        }
      ],
      "source": [
        "graphics_toolkit gnuplot\n",
        "\n",
        "fid = fopen('PxvsPy.csv', 'r');\n",
        "fgetl(fid);\n",
        "data = textscan(fid, '%f%f%f', 'Delimiter', ',');\n",
        "fclose(fid);\n",
        "\n",
        "x = data{2};\n",
        "y = data{3};\n",
        "\n",
        "figure;\n",
        "plot(x, y, 'b-', 'LineWidth', 1.5);\n",
        "grid on;\n",
        "axis equal;\n",
        "xlabel('X');\n",
        "ylabel('Y');\n",
        "title('Trayectoria del punto P (Y vs X)');\n"
      ]
    }
  ],
  "metadata": {
    "kernelspec": {
      "display_name": "Octave",
      "language": "octave",
      "name": "octave"
    },
    "language_info": {
      "file_extension": ".m",
      "help_links": [
        {
          "text": "GNU Octave",
          "url": "https://www.gnu.org/software/octave/support.html"
        },
        {
          "text": "Octave Kernel",
          "url": "https://github.com/Calysto/octave_kernel"
        },
        {
          "text": "MetaKernel Magics",
          "url": "https://metakernel.readthedocs.io/en/latest/source/README.html"
        }
      ],
      "mimetype": "text/x-octave",
      "name": "octave",
      "version": "6.4.0"
    },
    "colab": {
      "provenance": [],
      "include_colab_link": true
    }
  },
  "nbformat": 4,
  "nbformat_minor": 5
}